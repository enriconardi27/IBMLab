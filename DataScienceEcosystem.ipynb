{
 "cells": [
  {
   "cell_type": "markdown",
   "id": "86f4edaa-51b4-4bbe-89d1-93c5ab4f40d2",
   "metadata": {},
   "source": [
    "# Data Science Tools and Ecosystem"
   ]
  },
  {
   "cell_type": "markdown",
   "id": "2835556c-4be3-4c77-b32b-aa6dbdc2547f",
   "metadata": {},
   "source": [
    "In this notebook, Data Science Tools and Ecosystem are summarized"
   ]
  },
  {
   "cell_type": "markdown",
   "id": "930dbf97-d4b8-4523-aa8a-bd519edb0e86",
   "metadata": {},
   "source": [
    "Some of popular languages that Data Scientist use are :\n",
    "1. Python\n",
    "2. R\n",
    "3. SQL\n",
    "4. C++\n",
    "5. Scala\n",
    "6. Java\n",
    "7. Julia\n",
    "and more..."
   ]
  },
  {
   "cell_type": "markdown",
   "id": "de33569e-4992-4a61-aecd-06b881762cfa",
   "metadata": {},
   "source": [
    "Some of commonly used libraries used by Data Scientists include : \n",
    "1. Pandas\n",
    "2. NumPy\n",
    "3. Matplotlib\n",
    "4. Scikit-learn\n",
    "5. TensorFlow\n",
    "and more ..."
   ]
  },
  {
   "cell_type": "markdown",
   "id": "dd314009-9e4b-47a5-9f4e-47c1fa9fadd7",
   "metadata": {},
   "source": [
    "| Data Science Tools |\n",
    "| --- |\n",
    "| MySql |\n",
    "| MongoDB |\n",
    "| KubeFlow |"
   ]
  },
  {
   "cell_type": "markdown",
   "id": "74e448b5-e4a5-4314-a280-ada8cb5304d9",
   "metadata": {},
   "source": [
    "### Below are few examples of evaluating arithmetic expressions in Python"
   ]
  },
  {
   "cell_type": "code",
   "execution_count": 1,
   "id": "91f691de-9a4e-4517-81da-004278a5774a",
   "metadata": {
    "tags": []
   },
   "outputs": [
    {
     "data": {
      "text/plain": [
       "17"
      ]
     },
     "execution_count": 1,
     "metadata": {},
     "output_type": "execute_result"
    }
   ],
   "source": [
    "#This is a simple arithmetic expression to multiply then add integers\n",
    "(3*4)+5"
   ]
  },
  {
   "cell_type": "code",
   "execution_count": 2,
   "id": "90380f53-a0ca-4626-adf2-331842573ea0",
   "metadata": {
    "tags": []
   },
   "outputs": [
    {
     "data": {
      "text/plain": [
       "3.3333333333333335"
      ]
     },
     "execution_count": 2,
     "metadata": {},
     "output_type": "execute_result"
    }
   ],
   "source": [
    "#This will convert 200 minutes to hours by dividing by 60\n",
    "200/60"
   ]
  },
  {
   "cell_type": "markdown",
   "id": "478035ed-159b-49cc-b9cd-450fd188aff4",
   "metadata": {},
   "source": [
    "**Objectives**\n",
    "- List popular languages for Data Science\n",
    "- List popular libraries used by Data Scientist\n",
    "- Table of popular Data Science Tools\n",
    "- How to write a simple arithmetic expression\n"
   ]
  },
  {
   "cell_type": "markdown",
   "id": "622dc7eb-e867-4d27-9a78-8d448d1d91d0",
   "metadata": {},
   "source": [
    "## Author\n",
    "Enrico Nardi"
   ]
  },
  {
   "cell_type": "code",
   "execution_count": null,
   "id": "c2e2d895-cd2d-463e-8096-0d28e32c77fb",
   "metadata": {},
   "outputs": [],
   "source": []
  }
 ],
 "metadata": {
  "kernelspec": {
   "display_name": "Python",
   "language": "python",
   "name": "conda-env-python-py"
  },
  "language_info": {
   "codemirror_mode": {
    "name": "ipython",
    "version": 3
   },
   "file_extension": ".py",
   "mimetype": "text/x-python",
   "name": "python",
   "nbconvert_exporter": "python",
   "pygments_lexer": "ipython3",
   "version": "3.7.12"
  }
 },
 "nbformat": 4,
 "nbformat_minor": 5
}
